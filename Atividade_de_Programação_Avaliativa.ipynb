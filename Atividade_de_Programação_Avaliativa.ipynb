{
  "nbformat": 4,
  "nbformat_minor": 0,
  "metadata": {
    "colab": {
      "provenance": []
    },
    "kernelspec": {
      "name": "python3",
      "display_name": "Python 3"
    },
    "language_info": {
      "name": "python"
    }
  },
  "cells": [
    {
      "cell_type": "code",
      "execution_count": null,
      "metadata": {
        "id": "xDCFjbH10iU9"
      },
      "outputs": [],
      "source": []
    },
    {
      "cell_type": "markdown",
      "source": [
        "##Roteiro de Práticas 01 – Repositórios e projetos"
      ],
      "metadata": {
        "id": "3Y0XPfAB1XDX"
      }
    },
    {
      "cell_type": "markdown",
      "source": [],
      "metadata": {
        "id": "mVYAJgPq1TKl"
      }
    },
    {
      "cell_type": "markdown",
      "source": [],
      "metadata": {
        "id": "ic5QBRQrJAxd"
      }
    },
    {
      "cell_type": "code",
      "source": [
        "import time\n",
        "\n",
        "def openLog(nomearq, modo = 'r'):\n",
        "    '''abre arquivo nomearq em certo modo e retorna referência ao\n",
        "    arquivo aberto; registra o acesso ao arquivo em log.txt'''\n",
        "\n",
        "    arqEntrada = open(nomearq, modo)\n",
        "\n",
        "    # obtém hora atual\n",
        "    now = time.localtime()\n",
        "    nowFormat = time.strftime('%A %b/%d/%y %I:%M %p', now)\n",
        "\n",
        "    # abre arquivo log.txt no modo de acréscimo e acrescenta log\n",
        "    arqSaída = open('log.txt', 'a')\n",
        "    log = '{}: Arquivo {} aberto.\\n'           # formata string\n",
        "    arqSaída.write(log.format(nowFormat, nomearq))\n",
        "    arqSaída.close()\n",
        "\n",
        "    print('Registro realizado')\n",
        "\n",
        "    return arqEntrada\n"
      ],
      "metadata": {
        "id": "ozBE_PsU1ccS"
      },
      "execution_count": 24,
      "outputs": []
    },
    {
      "cell_type": "code",
      "source": [
        "openLog('/content/drive/MyDrive/Colab Notebooks/teste.txt')"
      ],
      "metadata": {
        "colab": {
          "base_uri": "https://localhost:8080/"
        },
        "id": "zUNjmSdU7uNG",
        "outputId": "7f414b04-4e3e-470e-da77-77d877550475"
      },
      "execution_count": 25,
      "outputs": [
        {
          "output_type": "stream",
          "name": "stdout",
          "text": [
            "Registro realizado\n"
          ]
        },
        {
          "output_type": "execute_result",
          "data": {
            "text/plain": [
              "<_io.TextIOWrapper name='/content/drive/MyDrive/Colab Notebooks/teste.txt' mode='r' encoding='UTF-8'>"
            ]
          },
          "metadata": {},
          "execution_count": 25
        }
      ]
    }
  ]
}