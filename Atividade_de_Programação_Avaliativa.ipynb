{
  "nbformat": 4,
  "nbformat_minor": 0,
  "metadata": {
    "colab": {
      "provenance": []
    },
    "kernelspec": {
      "name": "python3",
      "display_name": "Python 3"
    },
    "language_info": {
      "name": "python"
    }
  },
  "cells": [
    {
      "cell_type": "code",
      "execution_count": null,
      "metadata": {
        "id": "xDCFjbH10iU9"
      },
      "outputs": [],
      "source": []
    },
    {
      "cell_type": "markdown",
      "source": [
        "##Roteiro de Práticas 01 – Repositórios e projetos"
      ],
      "metadata": {
        "id": "3Y0XPfAB1XDX"
      }
    },
    {
      "cell_type": "markdown",
      "source": [],
      "metadata": {
        "id": "mVYAJgPq1TKl"
      }
    },
    {
      "cell_type": "code",
      "source": [
        "def openLog(nomearq, modo = 'r'):\n",
        "  \"\"\"abre arquivo nomearq em certo modo e retorna referência ao\n",
        "  arquivo aberto; registra o acesso ao arquivo em log.txt\"\"\"\n",
        "\n",
        "  arqEntrada = open(nomearq, modo)\n",
        "  # obtém hora atual\n",
        "  now = time.localtime()\n",
        "  nowFormat = time.strftime('%a %b/%d/%Y %I:%M%p', now)\n",
        "\n",
        "  # abre arquivo log.txt no modo de acréscimo e acrescenta log\n",
        "  arqSaída = open('log.txt', 'a')\n",
        "  log = '{}: Arquivo {} aberto.\\n'  # formata string\n",
        "  arqSaída.write(log.format(nowFormat, nomearq))\n",
        "  arqSaída.close()\n",
        "\n",
        "  print('Registro realizado')\n",
        "\n",
        "  return arqEntrada\n",
        "\n",
        "  #TESTANDO\n"
      ],
      "metadata": {
        "id": "ozBE_PsU1ccS"
      },
      "execution_count": 10,
      "outputs": []
    },
    {
      "cell_type": "code",
      "source": [
        "openLog ('/content/drive/MyDrive/Colab Notebooks/teste.txt')"
      ],
      "metadata": {
        "colab": {
          "base_uri": "https://localhost:8080/",
          "height": 263
        },
        "id": "zUNjmSdU7uNG",
        "outputId": "89294e4b-09b3-4739-8696-221875ee423f"
      },
      "execution_count": 14,
      "outputs": [
        {
          "output_type": "error",
          "ename": "NameError",
          "evalue": "name 'time' is not defined",
          "traceback": [
            "\u001b[0;31m---------------------------------------------------------------------------\u001b[0m",
            "\u001b[0;31mNameError\u001b[0m                                 Traceback (most recent call last)",
            "\u001b[0;32m<ipython-input-14-b23ee8a4e4e5>\u001b[0m in \u001b[0;36m<cell line: 0>\u001b[0;34m()\u001b[0m\n\u001b[0;32m----> 1\u001b[0;31m \u001b[0mopenLog\u001b[0m \u001b[0;34m(\u001b[0m\u001b[0;34m'/content/drive/MyDrive/Colab Notebooks/teste.txt'\u001b[0m\u001b[0;34m)\u001b[0m\u001b[0;34m\u001b[0m\u001b[0;34m\u001b[0m\u001b[0m\n\u001b[0m",
            "\u001b[0;32m<ipython-input-10-7312d2062643>\u001b[0m in \u001b[0;36mopenLog\u001b[0;34m(nomearq, modo)\u001b[0m\n\u001b[1;32m      5\u001b[0m   \u001b[0marqEntrada\u001b[0m \u001b[0;34m=\u001b[0m \u001b[0mopen\u001b[0m\u001b[0;34m(\u001b[0m\u001b[0mnomearq\u001b[0m\u001b[0;34m,\u001b[0m \u001b[0mmodo\u001b[0m\u001b[0;34m)\u001b[0m\u001b[0;34m\u001b[0m\u001b[0;34m\u001b[0m\u001b[0m\n\u001b[1;32m      6\u001b[0m   \u001b[0;31m# obtém hora atual\u001b[0m\u001b[0;34m\u001b[0m\u001b[0;34m\u001b[0m\u001b[0m\n\u001b[0;32m----> 7\u001b[0;31m   \u001b[0mnow\u001b[0m \u001b[0;34m=\u001b[0m \u001b[0mtime\u001b[0m\u001b[0;34m.\u001b[0m\u001b[0mlocaltime\u001b[0m\u001b[0;34m(\u001b[0m\u001b[0;34m)\u001b[0m\u001b[0;34m\u001b[0m\u001b[0;34m\u001b[0m\u001b[0m\n\u001b[0m\u001b[1;32m      8\u001b[0m   \u001b[0mnowFormat\u001b[0m \u001b[0;34m=\u001b[0m \u001b[0mtime\u001b[0m\u001b[0;34m.\u001b[0m\u001b[0mstrftime\u001b[0m\u001b[0;34m(\u001b[0m\u001b[0;34m'%a %b/%d/%Y %I:%M%p'\u001b[0m\u001b[0;34m,\u001b[0m \u001b[0mnow\u001b[0m\u001b[0;34m)\u001b[0m\u001b[0;34m\u001b[0m\u001b[0;34m\u001b[0m\u001b[0m\n\u001b[1;32m      9\u001b[0m \u001b[0;34m\u001b[0m\u001b[0m\n",
            "\u001b[0;31mNameError\u001b[0m: name 'time' is not defined"
          ]
        }
      ]
    }
  ]
}