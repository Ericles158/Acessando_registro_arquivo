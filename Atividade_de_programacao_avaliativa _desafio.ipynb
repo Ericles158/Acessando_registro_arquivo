{
  "nbformat": 4,
  "nbformat_minor": 0,
  "metadata": {
    "colab": {
      "provenance": [],
      "mount_file_id": "1ZTe7iuXF2GsjQuWZYPBJ-OcqTC0Ft8kI",
      "authorship_tag": "ABX9TyN2oWT6QzDRlAqqPKGfaL7l",
      "include_colab_link": true
    },
    "kernelspec": {
      "name": "python3",
      "display_name": "Python 3"
    },
    "language_info": {
      "name": "python"
    }
  },
  "cells": [
    {
      "cell_type": "markdown",
      "metadata": {
        "id": "view-in-github",
        "colab_type": "text"
      },
      "source": [
        "<a href=\"https://colab.research.google.com/github/Ericles158/Acessando_registro_arquivo/blob/main/atividade_de_programa_o_avaliativa%20_desafio.ipynb\" target=\"_parent\"><img src=\"https://colab.research.google.com/assets/colab-badge.svg\" alt=\"Open In Colab\"/></a>"
      ]
    },
    {
      "cell_type": "markdown",
      "source": [
        "##Roteiro de Práticas 01 – Repositórios e projetos"
      ],
      "metadata": {
        "id": "3Y0XPfAB1XDX"
      }
    },
    {
      "cell_type": "code",
      "source": [
        "import time\n",
        "\n",
        "def openLog(nomearq, modo = 'r'):\n",
        "    '''abre arquivo nomearq em certo modo e retorna referência ao\n",
        "    arquivo aberto; registra o acesso ao arquivo em log.txt'''\n",
        "\n",
        "    arqEntrada = open(nomearq, modo)\n",
        "\n",
        "    # obtém hora atual\n",
        "    now = time.localtime()\n",
        "    nowFormat = time.strftime('%A %b/%d/%y %I:%M %p', now)\n",
        "\n",
        "    # abre arquivo log.txt no modo de acréscimo e acrescenta log\n",
        "    arqSaída = open('log.txt', 'a')\n",
        "    log = '{}: Arquivo {} aberto.\\n'           # formata string\n",
        "    arqSaída.write(log.format(nowFormat, nomearq))\n",
        "    arqSaída.close()\n",
        "\n",
        "    print('Registro realizado')\n",
        "\n",
        "    return arqEntrada\n"
      ],
      "metadata": {
        "id": "ozBE_PsU1ccS"
      },
      "execution_count": null,
      "outputs": []
    },
    {
      "cell_type": "code",
      "source": [
        "openLog('/content/drive/MyDrive/Colab Notebooks/teste.txt')"
      ],
      "metadata": {
        "colab": {
          "base_uri": "https://localhost:8080/"
        },
        "id": "zUNjmSdU7uNG",
        "outputId": "7f414b04-4e3e-470e-da77-77d877550475"
      },
      "execution_count": null,
      "outputs": [
        {
          "output_type": "stream",
          "name": "stdout",
          "text": [
            "Registro realizado\n"
          ]
        },
        {
          "output_type": "execute_result",
          "data": {
            "text/plain": [
              "<_io.TextIOWrapper name='/content/drive/MyDrive/Colab Notebooks/teste.txt' mode='r' encoding='UTF-8'>"
            ]
          },
          "metadata": {},
          "execution_count": 25
        }
      ]
    },
    {
      "cell_type": "markdown",
      "source": [
        "###Roteiro de Práticas 01 - Desafio"
      ],
      "metadata": {
        "id": "1ZrYHNzq4eMZ"
      }
    },
    {
      "cell_type": "code",
      "source": [
        "\n",
        "#Inserindo variáveis\n",
        "nome = \"Ericles\"\n",
        "idade = 25\n",
        "cidade = \"São Bernardo do Campo\"\n",
        "\n",
        "#Mostrando na tela uma apresentação minha com as variáveis que inseri\n",
        "print(f\"Olá! Meu nome é {nome}. Eu tenho {idade} anos e moro em {cidade}.\")"
      ],
      "metadata": {
        "colab": {
          "base_uri": "https://localhost:8080/"
        },
        "id": "ki8HzWk_4diC",
        "outputId": "851023ff-05f2-4f0e-bfcc-0f688adac61a"
      },
      "execution_count": null,
      "outputs": [
        {
          "output_type": "stream",
          "name": "stdout",
          "text": [
            "Olá! Meu nome é Ericles. Eu tenho 25 anos e moro em São Bernardo do Campo.\n"
          ]
        }
      ]
    },
    {
      "cell_type": "code",
      "source": [
        "#Lista de números\n",
        "números = [10,20,30,40,50]\n",
        "\n",
        "#Cálculo da Média\n",
        "média = sum(números) / len(números)\n",
        "\n",
        "#Mostrando na tela os números que contém na lista\n",
        "print(f\" A lista contém os números {números}.\")\n",
        "\n",
        "#Mostrando na tela o resultado do cálculo da média\n",
        "print(f\" A média desses números é {int(média)}.\")"
      ],
      "metadata": {
        "colab": {
          "base_uri": "https://localhost:8080/"
        },
        "id": "nVr1bwnD5c0U",
        "outputId": "7a20effc-6e0a-47a4-8941-72e93ca1ce34"
      },
      "execution_count": null,
      "outputs": [
        {
          "output_type": "stream",
          "name": "stdout",
          "text": [
            " A lista contém os números [10, 20, 30, 40, 50].\n",
            " A média desses números é 30.\n"
          ]
        }
      ]
    },
    {
      "cell_type": "code",
      "source": [
        "# Lista de gastos\n",
        "gastos_joao = [300, 500, 200, 800]\n",
        "gastos_pedro = [200, 400, 500, 700]\n",
        "\n",
        "# Soma dos gastos\n",
        "total_joao = sum(gastos_joao)\n",
        "total_pedro = sum(gastos_pedro)\n",
        "\n",
        "# Comparação dos gastos\n",
        "if total_joao > total_pedro:\n",
        "    print (f\"João gastou mais que Pedro. João gastou R$ {total_joao}.\")\n",
        "elif total_joao < total_pedro:\n",
        "    print (f\"Pedro gastou mais que João. Pedro gastou R$ {total_pedro}.\")\n",
        "else:\n",
        "    print (f\"João e Pedro gastaram a mesma quantia. Ambos gastaram R$ {total_joao}.\")"
      ],
      "metadata": {
        "colab": {
          "base_uri": "https://localhost:8080/"
        },
        "id": "oEg7tELv5pQk",
        "outputId": "ba651140-bbac-4c10-abe1-4bb672012c28"
      },
      "execution_count": null,
      "outputs": [
        {
          "output_type": "stream",
          "name": "stdout",
          "text": [
            "João e Pedro gastaram a mesma quantia. Ambos gastaram R$ 1800.\n"
          ]
        }
      ]
    }
  ]
}
